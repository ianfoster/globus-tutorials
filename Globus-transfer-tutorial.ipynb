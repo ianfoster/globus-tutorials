{
 "cells": [
  {
   "cell_type": "markdown",
   "metadata": {},
   "source": [
    "# Introduction\n",
    "\n",
    "### Requirements\n",
    "#### Globus Transfer Client\n",
    " * git clone https://github.com/globusonline/transfer-api-client-python.git\n",
    " * python setup.py install\n",
    "\n",
    "#### Create a Globus Account\n",
    "* https://www.globus.org/SignUp\n",
    "\n",
    "#### Save Access Token to a File\n",
    "* curl -k --user &lt;username&gt;  'https://nexus.api.globusonline.org/goauth/token?grant_type=client_credentials'\n",
    "* Copy the \"access_token\" from the response into a file \"globus-token\""
   ]
  },
  {
   "cell_type": "markdown",
   "metadata": {},
   "source": [
    "# Background\n",
    "<img src=\"./img/globus-transfer.png\" width=70%>"
   ]
  },
  {
   "cell_type": "markdown",
   "metadata": {},
   "source": [
    "# Configuration\n",
    "\n",
    "Configure the following variables required to use the transfer client: username and the file in which your access token is stored. \n",
    "You can then create a Globus Transfer client object to interact with Globus via its REST APIs."
   ]
  },
  {
   "cell_type": "code",
   "execution_count": null,
   "metadata": {
    "collapsed": true
   },
   "outputs": [],
   "source": [
    "import json\n",
    "from globusonline.transfer.api_client import TransferAPIClient, Transfer, Delete, _endpoint_path\n",
    "username = \"USERNAME\"\n",
    "token_file = \"PATH_TO_TOKEN\""
   ]
  },
  {
   "cell_type": "markdown",
   "metadata": {},
   "source": [
    "### Load token and instantiate client"
   ]
  },
  {
   "cell_type": "code",
   "execution_count": null,
   "metadata": {
    "collapsed": false
   },
   "outputs": [],
   "source": [
    "with open(token_file, 'r') as f:\n",
    "    globus_token = f.read()\n",
    "\n",
    "client = TransferAPIClient(None, goauth=globus_token.strip())"
   ]
  },
  {
   "cell_type": "markdown",
   "metadata": {},
   "source": [
    "# Transfer client interactions\n",
    "\n",
    "The following steps will show you how to interact with Globus. \n",
    "\n",
    "### Find details of an endpoint\n",
    "All endpoints are uniquely identified by a name. When retrieving information, you can view the details of the endpoint (owner, contact information, name, etc.), the MyProxy and GridFTP server addresses, and configuration."
   ]
  },
  {
   "cell_type": "code",
   "execution_count": null,
   "metadata": {
    "collapsed": false
   },
   "outputs": [],
   "source": [
    "code, reason, data = client.endpoint('go#ep1')\n",
    "print \"Name: %s\" % data[\"canonical_name\"]"
   ]
  },
  {
   "cell_type": "markdown",
   "metadata": {},
   "source": [
    "### List endpoints\n",
    "Globus has over 8000 endpoints, so you might want to use a limit or change the orderby parameter (options include, name, username, expire_time)"
   ]
  },
  {
   "cell_type": "code",
   "execution_count": null,
   "metadata": {
    "collapsed": false
   },
   "outputs": [],
   "source": [
    "code, reason, data = client.endpoint_list(limit=5, orderby=\"username\")\n",
    "for endpoint in data[\"DATA\"]:\n",
    "    print endpoint[\"canonical_name\"]"
   ]
  },
  {
   "cell_type": "markdown",
   "metadata": {},
   "source": [
    "### Search for an endpoint\n",
    "Globus now provides full text search over endpoints and their attributes. This provides an easy way to find an endpoint with limited information. "
   ]
  },
  {
   "cell_type": "code",
   "execution_count": null,
   "metadata": {
    "collapsed": false,
    "scrolled": true
   },
   "outputs": [],
   "source": [
    "code, reason, data = client.get(\"endpoint_search?filter_fulltext=ep1\")\n",
    "for endpoint in data[\"DATA\"]:\n",
    "    print endpoint[\"canonical_name\"]"
   ]
  },
  {
   "cell_type": "markdown",
   "metadata": {},
   "source": [
    "### Find endpoint activation requirements\n",
    "Before accessing an endpoint, it must be \"activated\" by authenticating with the endpoint's configured identity provider. Many endpoints can be automatically activated via your Globus identity (e.g., Globus connect personal, shared, and S3 endpoints). Others may require that you authenticate using an OAuth workflow."
   ]
  },
  {
   "cell_type": "code",
   "execution_count": null,
   "metadata": {
    "collapsed": false,
    "scrolled": true
   },
   "outputs": [],
   "source": [
    "code, reason, data = client.endpoint_activation_requirements('go#ep1')\n",
    "print \"go#ep1 auto_activation_supported: %s\" % data[\"auto_activation_supported\"]\n",
    "\n",
    "code, reason, data = client.endpoint_activation_requirements('ncsa#BlueWaters')\n",
    "print \"ncsa#BlueWaters Oauth_server: %s\" % data[\"oauth_server\"]"
   ]
  },
  {
   "cell_type": "markdown",
   "metadata": {},
   "source": [
    "### Activate an endpoint\n",
    "Endpoints that support auto activation can be activated with a single call using your Globus identity."
   ]
  },
  {
   "cell_type": "code",
   "execution_count": null,
   "metadata": {
    "collapsed": false,
    "scrolled": true
   },
   "outputs": [],
   "source": [
    "code, reason, data = client.endpoint_autoactivate('go#ep1', if_expires_in=600)\n",
    "code, reason, data = client.endpoint_autoactivate('go#ep2', if_expires_in=600)\n",
    "\n",
    "print \"Activation expires: %s\" % data[\"expire_time\"]"
   ]
  },
  {
   "cell_type": "markdown",
   "metadata": {},
   "source": [
    "### Activate an endpoint that doesn't support auto activation\n",
    "If we try to auto activate an endpoint that does not support autoactivation, Globus will throw an exception."
   ]
  },
  {
   "cell_type": "code",
   "execution_count": null,
   "metadata": {
    "collapsed": false
   },
   "outputs": [],
   "source": [
    "try: \n",
    "    code, reason, data = client.endpoint_autoactivate('ncsa#BlueWaters', if_expires_in=600)\n",
    "except Exception, e:\n",
    "    print \"Cant autoactivate this endpoint!\" \n",
    "    print e"
   ]
  },
  {
   "cell_type": "markdown",
   "metadata": {},
   "source": [
    "### List the contents of an endpoint\n",
    "After activating an endpoint, we can now perform actions on it. For example, we can list the contents of a specified directory. "
   ]
  },
  {
   "cell_type": "code",
   "execution_count": null,
   "metadata": {
    "collapsed": false
   },
   "outputs": [],
   "source": [
    "code, reason, data = client.endpoint_ls('go#ep1', '/share/godata')\n",
    "for file_or_dir in data['DATA']:\n",
    "    print \"%s (%s)\" % (file_or_dir['name'], file_or_dir['size'])"
   ]
  },
  {
   "cell_type": "markdown",
   "metadata": {},
   "source": [
    "### Transfer files\n",
    "Before transferring data, both participating endpoints must be activated. You must then acquire a submission ID and finally submit the transfer by specifying the two endpoints and the source and destination files or directories. "
   ]
  },
  {
   "cell_type": "code",
   "execution_count": null,
   "metadata": {
    "collapsed": false,
    "scrolled": true
   },
   "outputs": [],
   "source": [
    "label = \"My first transfer\"\n",
    "\n",
    "# activate destination endpoint\n",
    "code, reason, data = client.endpoint_autoactivate('go#ep2', if_expires_in=600)\n",
    "\n",
    "#get a unique ID for this transfer\n",
    "code, message, data = client.transfer_submission_id()\n",
    "submission_id = data[\"value\"]\n",
    "\n",
    "# start the transfer\n",
    "transfer = Transfer(submission_id, 'go#ep1', 'go#ep2', label=label)\n",
    "transfer.add_item('/share/godata/file1.txt', '/~/myfile.txt')\n",
    "code, reason, data = client.transfer(transfer)\n",
    "task_id = data[\"task_id\"]\n",
    "\n",
    "print \"Transfer started with ID %s\" % task_id"
   ]
  },
  {
   "cell_type": "markdown",
   "metadata": {},
   "source": [
    "### Check the status of the transfer\n",
    "Transfer are conducted asynchronously. You can periodically check the status of the task as follows. "
   ]
  },
  {
   "cell_type": "code",
   "execution_count": null,
   "metadata": {
    "collapsed": false
   },
   "outputs": [],
   "source": [
    "code, reason, data = client.task(task_id)\n",
    "print \"Status: %s\" % data[\"status\"]"
   ]
  },
  {
   "cell_type": "markdown",
   "metadata": {},
   "source": [
    "### List the contents of the desination endpoint\n",
    "Once the file transfer is complete, you can perform another endpoint_ls operation to verify the directory's contents."
   ]
  },
  {
   "cell_type": "code",
   "execution_count": null,
   "metadata": {
    "collapsed": false
   },
   "outputs": [],
   "source": [
    "code, reason, data = client.endpoint_ls('go#ep2', '/~/')\n",
    "for file_or_dir in data['DATA']:\n",
    "    print \"%s (%s)\" % (file_or_dir['name'], file_or_dir['size'])"
   ]
  },
  {
   "cell_type": "markdown",
   "metadata": {},
   "source": [
    "### List the events of this transfer\n",
    "Globus periodically monitors the progress of a transfer. As such, users can review these markers as well as any errors or faults that occured. "
   ]
  },
  {
   "cell_type": "code",
   "execution_count": null,
   "metadata": {
    "collapsed": false
   },
   "outputs": [],
   "source": [
    "code, reason, data = client.task_event_list(task_id)\n",
    "for event in data[\"DATA\"]:\n",
    "    print event[\"description\"]"
   ]
  },
  {
   "cell_type": "markdown",
   "metadata": {},
   "source": [
    "### View transfer tasks\n",
    "You can review current and previous transfer tasks as well as information about each task including request time, completion time, number of faults, bytes transferred. "
   ]
  },
  {
   "cell_type": "code",
   "execution_count": null,
   "metadata": {
    "collapsed": false
   },
   "outputs": [],
   "source": [
    "code, reason, data = client.task_list()\n",
    "for task in data[\"DATA\"]:\n",
    "    print \"label: %s, bytes transferred: %s\" % (task[\"label\"], task[\"bytes_transferred\"])\n"
   ]
  },
  {
   "cell_type": "markdown",
   "metadata": {},
   "source": [
    "### Create a new folder\n",
    "Globus supports other actions on endpoints such as mkdir and delete. "
   ]
  },
  {
   "cell_type": "code",
   "execution_count": null,
   "metadata": {
    "collapsed": false,
    "scrolled": true
   },
   "outputs": [],
   "source": [
    "code, reason, data = client.endpoint_mkdir('go#ep1', '/~/shared_dir/')\n",
    "print data[\"message\"]"
   ]
  },
  {
   "cell_type": "markdown",
   "metadata": {},
   "source": [
    "### Create an shared endpoint\n",
    "Shared endpoints allow users to share directories within endpoints with other Globus users, groups, and publicly. To create a shared endpoint, you must specify a name and the host endpoint and path to be shared. Note: you must be in the tutorial users group to create shared endpoints. "
   ]
  },
  {
   "cell_type": "code",
   "execution_count": null,
   "metadata": {
    "collapsed": false
   },
   "outputs": [],
   "source": [
    "code, reason, data = client.shared_endpoint_create('my_shared_endpoint', 'go#ep1', '/~/shared_dir/')\n",
    "shared_endpoint_name = data[\"canonical_name\"]\n",
    "print data[\"message\"]"
   ]
  },
  {
   "cell_type": "markdown",
   "metadata": {},
   "source": [
    "### Set ACLs on the shared enpoint\n",
    "Access to a shared endpoint can be dynamically set. To do so, specify the user to share with, and the permissions to grant (r or w). "
   ]
  },
  {
   "cell_type": "code",
   "execution_count": null,
   "metadata": {
    "collapsed": false
   },
   "outputs": [],
   "source": [
    "data = {\"principal_type\":\"user\",\n",
    "        \"principal\":\"kyle\",\n",
    "        \"send_email\":False,\n",
    "        \"DATA_TYPE\":\"access\",\n",
    "        \"path\":\"/\",\n",
    "        \"permissions\":\"r\"}\n",
    "code, reason, data =  client.post(_endpoint_path(shared_endpoint_name) + \"/access\", json.dumps(data))\n",
    "print data[\"message\"]"
   ]
  },
  {
   "cell_type": "markdown",
   "metadata": {},
   "source": [
    "### Set public ACLs on shared endpoint. \n",
    "To share with any Globus user you must specify the \"all_authenticated_users\" principal. "
   ]
  },
  {
   "cell_type": "code",
   "execution_count": null,
   "metadata": {
    "collapsed": false
   },
   "outputs": [],
   "source": [
    "data = {\"principal_type\":\"all_authenticated_users\",\n",
    "        \"principal\":\"\",\n",
    "        \"DATA_TYPE\":\"access\",\n",
    "        \"path\":\"/\",\n",
    "        \"permissions\":\"r\"}\n",
    "code, reason, data =  client.post(_endpoint_path(shared_endpoint_name) + \"/access\", json.dumps(data))\n",
    "access_id = data[\"access_id\"]\n",
    "print data[\"message\"]"
   ]
  },
  {
   "cell_type": "markdown",
   "metadata": {},
   "source": [
    "### Delete an ACL. \n",
    "ACLs can be deleted via their IDs. "
   ]
  },
  {
   "cell_type": "code",
   "execution_count": null,
   "metadata": {
    "collapsed": false
   },
   "outputs": [],
   "source": [
    "code, reason, data =  client._delete(\"%s/access/%s\" %(_endpoint_path(shared_endpoint_name), (access_id)))\n",
    "print data[\"message\"]"
   ]
  },
  {
   "cell_type": "code",
   "execution_count": null,
   "metadata": {
    "collapsed": true
   },
   "outputs": [],
   "source": []
  }
 ],
 "metadata": {
  "kernelspec": {
   "display_name": "Python 2",
   "language": "python",
   "name": "python2"
  },
  "language_info": {
   "codemirror_mode": {
    "name": "ipython",
    "version": 2
   },
   "file_extension": ".py",
   "mimetype": "text/x-python",
   "name": "python",
   "nbconvert_exporter": "python",
   "pygments_lexer": "ipython2",
   "version": "2.7.10"
  }
 },
 "nbformat": 4,
 "nbformat_minor": 0
}
